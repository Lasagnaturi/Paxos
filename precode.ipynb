{
 "cells": [
  {
   "cell_type": "code",
   "execution_count": 2,
   "metadata": {},
   "outputs": [
    {
     "name": "stdout",
     "output_type": "stream",
     "text": [
      "README           \u001b[34mfake-paxos\u001b[m\u001b[m       paxos.conf       \u001b[31mrun_1acceptor.sh\u001b[m\u001b[m\r\n",
      "\u001b[31mcheck1.sh\u001b[m\u001b[m        \u001b[31mgenerate.sh\u001b[m\u001b[m      precode.ipynb    \u001b[31mrun_2acceptor.sh\u001b[m\u001b[m\r\n",
      "\u001b[31mcheck2.sh\u001b[m\u001b[m        learn1           prop.sorted      \u001b[31mrun_catch_up.sh\u001b[m\u001b[m\r\n",
      "\u001b[31mcheck3.sh\u001b[m\u001b[m        learn2           prop1            \u001b[31mrun_loss.sh\u001b[m\u001b[m\r\n",
      "\u001b[31mcheck_all.sh\u001b[m\u001b[m     \u001b[31mloss_set.sh\u001b[m\u001b[m      prop2            values.txt\r\n",
      "\u001b[31mclean.sh\u001b[m\u001b[m         \u001b[31mloss_unset.sh\u001b[m\u001b[m    \u001b[31mrun.sh\u001b[m\u001b[m\r\n"
     ]
    }
   ],
   "source": [
    "!ls"
   ]
  },
  {
   "cell_type": "code",
   "execution_count": 14,
   "metadata": {},
   "outputs": [
    {
     "name": "stdout",
     "output_type": "stream",
     "text": [
      "[12, 32, 45, 65, 67, 87, 98, 76, 54, 32, 12, 34, 56, 67, 87, 98]\n"
     ]
    }
   ],
   "source": [
    "f = open(\"values.txt\", \"r\")\n",
    "values = []\n",
    "while(True):\n",
    "    value = f.readline()\n",
    "    if(value == \"\"):\n",
    "        break\n",
    "    values.append(int(value))"
   ]
  },
  {
   "cell_type": "code",
   "execution_count": 4,
   "metadata": {},
   "outputs": [
    {
     "name": "stdout",
     "output_type": "stream",
     "text": [
      "32\n",
      "\n"
     ]
    }
   ],
   "source": [
    "print(f.readline())"
   ]
  },
  {
   "cell_type": "code",
   "execution_count": 8,
   "metadata": {},
   "outputs": [],
   "source": [
    "def ciao():\n",
    "    print(\"ciao\")\n",
    "    \n",
    "def bamba():\n",
    "    print(\"bamba\")\n",
    "    \n",
    "stringa = \"ciao\""
   ]
  },
  {
   "cell_type": "code",
   "execution_count": 9,
   "metadata": {},
   "outputs": [
    {
     "name": "stdout",
     "output_type": "stream",
     "text": [
      "ciao\n"
     ]
    }
   ],
   "source": [
    "prova = locals()[stringa]\n",
    "prova()"
   ]
  },
  {
   "cell_type": "code",
   "execution_count": 18,
   "metadata": {},
   "outputs": [],
   "source": [
    " msg = \"phase1a \"+str(1)+\" None\""
   ]
  },
  {
   "cell_type": "code",
   "execution_count": 19,
   "metadata": {},
   "outputs": [
    {
     "data": {
      "text/plain": [
       "'phase1a 1 None'"
      ]
     },
     "execution_count": 19,
     "metadata": {},
     "output_type": "execute_result"
    }
   ],
   "source": [
    "msg"
   ]
  },
  {
   "cell_type": "code",
   "execution_count": 21,
   "metadata": {},
   "outputs": [],
   "source": [
    "class Prova():\n",
    "    def prov():\n",
    "        print(\"questa è una prova\")\n",
    "        \n",
    "    "
   ]
  },
  {
   "cell_type": "code",
   "execution_count": 22,
   "metadata": {},
   "outputs": [
    {
     "name": "stdout",
     "output_type": "stream",
     "text": [
      "questa è una prova\n"
     ]
    }
   ],
   "source": [
    "Prova.prov()"
   ]
  },
  {
   "cell_type": "code",
   "execution_count": 23,
   "metadata": {},
   "outputs": [
    {
     "name": "stdout",
     "output_type": "stream",
     "text": [
      "questa è una prova\n"
     ]
    }
   ],
   "source": [
    "def prov():\n",
    "    print(\"questa è una prova\")\n",
    "    \n",
    "ciao = \"prov\"\n",
    "zeta = globals()[ciao]\n",
    "zeta()"
   ]
  },
  {
   "cell_type": "code",
   "execution_count": null,
   "metadata": {},
   "outputs": [],
   "source": []
  }
 ],
 "metadata": {
  "kernelspec": {
   "display_name": "Python 3",
   "language": "python",
   "name": "python3"
  },
  "language_info": {
   "codemirror_mode": {
    "name": "ipython",
    "version": 3
   },
   "file_extension": ".py",
   "mimetype": "text/x-python",
   "name": "python",
   "nbconvert_exporter": "python",
   "pygments_lexer": "ipython3",
   "version": "3.7.4"
  }
 },
 "nbformat": 4,
 "nbformat_minor": 2
}
